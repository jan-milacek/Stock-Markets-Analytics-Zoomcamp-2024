{
  "nbformat": 4,
  "nbformat_minor": 0,
  "metadata": {
    "colab": {
      "provenance": [],
      "authorship_tag": "ABX9TyOkEBukcOfKFfeN8uAqLOKj"
    },
    "kernelspec": {
      "name": "python3",
      "display_name": "Python 3"
    },
    "language_info": {
      "name": "python"
    }
  },
  "cells": [
    {
      "cell_type": "code",
      "execution_count": 2,
      "metadata": {
        "id": "ru7hWcuSCddf"
      },
      "outputs": [],
      "source": [
        "# IMPORTS\n",
        "import numpy as np\n",
        "import pandas as pd\n",
        "\n",
        "#Fin Data Sources\n",
        "import yfinance as yf\n",
        "import pandas_datareader as pdr\n",
        "\n",
        "#Data viz\n",
        "import plotly.graph_objs as go\n",
        "import plotly.express as px\n",
        "\n",
        "import time\n",
        "from datetime import date\n",
        "from datetime import datetime"
      ]
    },
    {
      "cell_type": "code",
      "source": [
        "\n",
        "end = date.today()\n",
        "print(f'Year = {end.year}; month= {end.month}; day={end.day}')\n",
        "\n",
        "start = date(year=end.year-70, month=end.month, day=end.day)\n",
        "print(f'Period for indexes: {start} to {end} ')\n",
        "\n",
        "print(end)"
      ],
      "metadata": {
        "colab": {
          "base_uri": "https://localhost:8080/"
        },
        "id": "uhcyibi4CixK",
        "outputId": "0b098028-df9d-4ad7-9b31-0f8163d9bcdf"
      },
      "execution_count": null,
      "outputs": [
        {
          "output_type": "stream",
          "name": "stdout",
          "text": [
            "Year = 2024; month= 4; day=18\n",
            "Period for indexes: 1954-04-18 to 2024-04-18 \n",
            "2024-04-18\n"
          ]
        }
      ]
    },
    {
      "cell_type": "code",
      "source": [
        "end = datetime.strptime('2023-12-31', '%Y-%m-%d')\n",
        "start = datetime.strptime('2022-01-01', '%Y-%m-%d')\n",
        "\n",
        "print(f'Period for indexes: {start} to {end} ')\n",
        "# Real Potential Gross Domestic Product (GDPPOT), Billions of Chained 2012 Dollars, QUARTERLY\n",
        "# https://fred.stlouisfed.org/series/GDPPOT\n",
        "gdpc1 = pdr.DataReader(\"GDPC1\", \"fred\", start=start)\n",
        "gdpc1['gdppot_us_yoy'] = gdpc1.GDPC1/gdpc1.GDPC1.shift(4)-1\n",
        "gdpc1['gdppot_us_qoq'] = gdpc1.GDPC1/gdpc1.GDPC1.shift(4)-1\n",
        "gdpc1 = gdpc1.dropna(subset=['gdppot_us_yoy'])\n",
        "print(f\"Question 1:{gdpc1['gdppot_us_yoy'].mean()}\")\n"
      ],
      "metadata": {
        "colab": {
          "base_uri": "https://localhost:8080/"
        },
        "id": "8P2I9SxpClUe",
        "outputId": "b803cfc7-c8ac-4e6e-c677-1930610f6695"
      },
      "execution_count": null,
      "outputs": [
        {
          "output_type": "stream",
          "name": "stdout",
          "text": [
            "Period for indexes: 2022-01-01 00:00:00 to 2023-12-31 00:00:00 \n",
            "Question 1:0.02540443392867625\n"
          ]
        }
      ]
    },
    {
      "cell_type": "code",
      "source": [
        "end = date.today()\n",
        "start = datetime.strptime('2000-01-01', '%Y-%m-%d')\n",
        "dgs2 = pdr.DataReader(\"DGS2\", \"fred\", start=start)\n",
        "dgs10 = pdr.DataReader(\"DGS10\", \"fred\", start=start)\n",
        "dgs = dgs2.join(dgs10)\n",
        "dgs[\"diff\"] = dgs['DGS10'] - dgs['DGS2']\n",
        "dgs['diff'] = dgs['diff']\n",
        "print(dgs['diff'].min())\n",
        "\n",
        "\n",
        "#dgs['compare'] = np.where(dgs['DGS2'] == dgs['DGS10'], dgs['DGS2'], np.nan)\n",
        "\n",
        "#print(dgs[dgs['compare'] == 'NaN'])\n",
        "#mask = (dgs['compare'] == 'NaN')\n",
        "#dgs = dgs.loc[mask]\n",
        "\n",
        "#print(dgs)\n",
        "\n",
        "\n",
        "\n",
        "#df['new'] = np.where((df['Column1'] <= df['Column2']) & (\n",
        "#    df['Column1'] <= df['Column3']), df['Column1'], np.nan)\n",
        "\n",
        "\n",
        "#print (dgs['diff'].abs().min())\n",
        "\n"
      ],
      "metadata": {
        "colab": {
          "base_uri": "https://localhost:8080/"
        },
        "id": "cUtPMA9HCsty",
        "outputId": "c9ce591b-b5fd-4a33-bf4a-61d21db26651"
      },
      "execution_count": 58,
      "outputs": [
        {
          "output_type": "stream",
          "name": "stdout",
          "text": [
            "-1.0800000000000005\n"
          ]
        }
      ]
    },
    {
      "cell_type": "code",
      "source": [
        "end = datetime.strptime('2024-04-09', '%Y-%m-%d')\n",
        "start = datetime.strptime('2019-04-09', '%Y-%m-%d')\n",
        "\n",
        "\n",
        "gspc = yf.download(tickers = \"^GSPC\",period = \"10y\",interval = \"1d\")\n",
        "#gspc['yoy_growth'] = gspc['Adj Close'] /gspc['Adj Close'].shift(4) -1\n",
        "mask = (gspc.index > start) & (gspc.index <= end)\n",
        "gspc = gspc.loc[mask]\n",
        "gspc_sum = (gspc['Adj Close'].iloc[-1] / gspc['Adj Close'].iloc[0]) - 1\n",
        "print(gspc_sum)\n",
        "\n",
        "\n",
        "#print(gspc)\n",
        "\n",
        "mxx = yf.download(tickers = \"^MXX\",period = \"10y\",interval = \"1d\")\n",
        "#mxx['yoy_growth'] = mxx['Adj Close'] /mxx['Adj Close'].shift(4) -1\n",
        "mask = (mxx.index > start) & (mxx.index <= end)\n",
        "mxx = mxx.loc[mask]\n",
        "mxx_sum = (mxx['Adj Close'].iloc[-1] / mxx['Adj Close'].iloc[0]) - 1\n",
        "print(mxx_sum)\n",
        "\n",
        "max = gspc_sum if mxx_sum < gspc_sum else mxx_sum\n",
        "#print(max)\n",
        "\n"
      ],
      "metadata": {
        "colab": {
          "base_uri": "https://localhost:8080/"
        },
        "id": "3m3fM4-ONVgm",
        "outputId": "9d7b3667-bf19-4b3e-ed0a-4e333f863517"
      },
      "execution_count": 79,
      "outputs": [
        {
          "output_type": "stream",
          "name": "stderr",
          "text": [
            "[*********************100%%**********************]  1 of 1 completed\n",
            "[*********************100%%**********************]  1 of 1 completed"
          ]
        },
        {
          "output_type": "stream",
          "name": "stdout",
          "text": [
            "0.8038543688696671\n",
            "0.2819472302583168\n"
          ]
        },
        {
          "output_type": "stream",
          "name": "stderr",
          "text": [
            "\n"
          ]
        }
      ]
    },
    {
      "cell_type": "code",
      "source": [
        "_2222_SR = yf.download(tickers = \"2222.SR\",start=\"2023-01-01\", end=\"2023-12-31\",interval = \"1d\")\n",
        "_2222_SR_lrr = (_2222_SR['Adj Close'].max() - _2222_SR['Adj Close'].min()) / _2222_SR['Adj Close'].max()\n",
        "\n",
        "BRK_B = yf.download(tickers = \"BRK-B\",start=\"2023-01-01\", end=\"2023-12-31\",interval = \"1d\")\n",
        "BRK_B_lrr = (BRK_B['Adj Close'].max() - BRK_B['Adj Close'].min()) / BRK_B['Adj Close'].max()\n",
        "\n",
        "AAPL = yf.download(tickers = \"AAPL\",start=\"2023-01-01\", end=\"2023-12-31\",interval = \"1d\")\n",
        "AAPL_lrr = (AAPL['Adj Close'].max() - AAPL['Adj Close'].min()) / AAPL['Adj Close'].max()\n",
        "\n",
        "MSFT = yf.download(tickers = \"MSFT\",start=\"2023-01-01\", end=\"2023-12-31\",interval = \"1d\")\n",
        "MSFT_lrr = (MSFT['Adj Close'].max() - MSFT['Adj Close'].min()) / MSFT['Adj Close'].max()\n",
        "\n",
        "GOOG = yf.download(tickers = \"GOOG\",start=\"2023-01-01\", end=\"2023-12-31\",interval = \"1d\")\n",
        "GOOG_lrr = (GOOG['Adj Close'].max() - GOOG['Adj Close'].min()) / GOOG['Adj Close'].max()\n",
        "\n",
        "JPM = yf.download(tickers = \"JPM\",start=\"2023-01-01\", end=\"2023-12-31\",interval = \"1d\")\n",
        "JPM_lrr = (JPM['Adj Close'].max() - JPM['Adj Close'].min()) / JPM['Adj Close'].max()\n",
        "\n",
        "\n",
        "print(f\"\\nLargest range ratio for 2222.SR: {round(_2222_SR_lrr,2)}\")\n",
        "print(f\"Largest range ratio for BRK_B: {round(BRK_B_lrr,2)}\")\n",
        "print(f\"Largest range ratio for AAPL: {round(AAPL_lrr,2)}\")\n",
        "print(f\"Largest range ratio for MSFT: {round(MSFT_lrr,2)}\")\n",
        "print(f\"Largest range ratio for GOOG: {round(GOOG_lrr,2)}\")\n",
        "print(f\"Largest range ratio for JPM: {round(JPM_lrr,2)}\")\n",
        "\n",
        "\n"
      ],
      "metadata": {
        "colab": {
          "base_uri": "https://localhost:8080/"
        },
        "id": "WTR5PGRiNxb6",
        "outputId": "c4a48e3a-8253-4f78-c651-375e9a76418c"
      },
      "execution_count": null,
      "outputs": [
        {
          "output_type": "stream",
          "name": "stderr",
          "text": [
            "[*********************100%%**********************]  1 of 1 completed\n",
            "[*********************100%%**********************]  1 of 1 completed\n",
            "[*********************100%%**********************]  1 of 1 completed\n",
            "[*********************100%%**********************]  1 of 1 completed\n",
            "[*********************100%%**********************]  1 of 1 completed\n",
            "[*********************100%%**********************]  1 of 1 completed"
          ]
        },
        {
          "output_type": "stream",
          "name": "stdout",
          "text": [
            "\n",
            "Largest range ratio for 2222.SR: 0.21\n",
            "Largest range ratio for BRK_B: 0.21\n",
            "Largest range ratio for AAPL: 0.37\n",
            "Largest range ratio for MSFT: 0.42\n",
            "Largest range ratio for GOOG: 0.39\n",
            "Largest range ratio for JPM: 0.28\n"
          ]
        },
        {
          "output_type": "stream",
          "name": "stderr",
          "text": [
            "\n"
          ]
        }
      ]
    },
    {
      "cell_type": "code",
      "source": [
        "import yfinance as yf\n",
        "data = yf.download(\"2222.SR BRK-B AAPL MSFT GOOG JPM\", start=\"2023-01-01\", end=\"2023-12-31\",interval = \"1d\")"
      ],
      "metadata": {
        "id": "cWNbrzduaeMM",
        "colab": {
          "base_uri": "https://localhost:8080/"
        },
        "outputId": "f3a00b00-8f92-4b27-f802-9b674aab152c"
      },
      "execution_count": null,
      "outputs": [
        {
          "output_type": "stream",
          "name": "stderr",
          "text": [
            "[*********************100%%**********************]  6 of 6 completed\n"
          ]
        }
      ]
    },
    {
      "cell_type": "code",
      "source": [
        "data.columns"
      ],
      "metadata": {
        "colab": {
          "base_uri": "https://localhost:8080/"
        },
        "id": "1jiGMKUkVgNh",
        "outputId": "bd95a0ec-c096-4123-b28f-ede2be142b2d"
      },
      "execution_count": null,
      "outputs": [
        {
          "output_type": "execute_result",
          "data": {
            "text/plain": [
              "MultiIndex([('Adj Close', '2222.SR'),\n",
              "            ('Adj Close',    'AAPL'),\n",
              "            ('Adj Close',   'BRK-B'),\n",
              "            ('Adj Close',    'GOOG'),\n",
              "            ('Adj Close',     'JPM'),\n",
              "            ('Adj Close',    'MSFT'),\n",
              "            (    'Close', '2222.SR'),\n",
              "            (    'Close',    'AAPL'),\n",
              "            (    'Close',   'BRK-B'),\n",
              "            (    'Close',    'GOOG'),\n",
              "            (    'Close',     'JPM'),\n",
              "            (    'Close',    'MSFT'),\n",
              "            (     'High', '2222.SR'),\n",
              "            (     'High',    'AAPL'),\n",
              "            (     'High',   'BRK-B'),\n",
              "            (     'High',    'GOOG'),\n",
              "            (     'High',     'JPM'),\n",
              "            (     'High',    'MSFT'),\n",
              "            (      'Low', '2222.SR'),\n",
              "            (      'Low',    'AAPL'),\n",
              "            (      'Low',   'BRK-B'),\n",
              "            (      'Low',    'GOOG'),\n",
              "            (      'Low',     'JPM'),\n",
              "            (      'Low',    'MSFT'),\n",
              "            (     'Open', '2222.SR'),\n",
              "            (     'Open',    'AAPL'),\n",
              "            (     'Open',   'BRK-B'),\n",
              "            (     'Open',    'GOOG'),\n",
              "            (     'Open',     'JPM'),\n",
              "            (     'Open',    'MSFT'),\n",
              "            (   'Volume', '2222.SR'),\n",
              "            (   'Volume',    'AAPL'),\n",
              "            (   'Volume',   'BRK-B'),\n",
              "            (   'Volume',    'GOOG'),\n",
              "            (   'Volume',     'JPM'),\n",
              "            (   'Volume',    'MSFT')],\n",
              "           names=['Price', 'Ticker'])"
            ]
          },
          "metadata": {},
          "execution_count": 7
        }
      ]
    },
    {
      "cell_type": "code",
      "source": [
        "ticker = yf.Ticker('AAPL')\n",
        "aapl_df = ticker.history(start=\"2023-01-01\", end=\"2023-12-31\",interval = \"1d\")\n",
        "for k,v in ticker.dividends.items():\n",
        "    print (ticker.info[\"symbol\"], k, '\\t', v, '\\n')\n",
        "print(aapl_df)"
      ],
      "metadata": {
        "colab": {
          "base_uri": "https://localhost:8080/"
        },
        "id": "0mqqroUtWoCg",
        "outputId": "49c7fc71-9ff0-472a-c673-562e98cbed16"
      },
      "execution_count": null,
      "outputs": [
        {
          "output_type": "stream",
          "name": "stdout",
          "text": [
            "AAPL 2023-02-10 00:00:00-05:00 \t 0.23 \n",
            "\n",
            "AAPL 2023-05-12 00:00:00-04:00 \t 0.24 \n",
            "\n",
            "AAPL 2023-08-11 00:00:00-04:00 \t 0.24 \n",
            "\n",
            "AAPL 2023-11-10 00:00:00-05:00 \t 0.24 \n",
            "\n",
            "<class 'yfinance.ticker.Ticker'>\n"
          ]
        }
      ]
    },
    {
      "cell_type": "code",
      "source": [
        "aapl_df.Dividends.sum() / aapl_df.Close.iloc[-1]"
      ],
      "metadata": {
        "colab": {
          "base_uri": "https://localhost:8080/"
        },
        "id": "aZLlD0FDaUSL",
        "outputId": "a05346e6-336c-4aa1-ac50-e35ea7a2531f"
      },
      "execution_count": null,
      "outputs": [
        {
          "output_type": "execute_result",
          "data": {
            "text/plain": [
              "0.004940592304162832"
            ]
          },
          "metadata": {},
          "execution_count": 39
        }
      ]
    },
    {
      "cell_type": "code",
      "source": [
        "tickers_list = [\"2222.SR\", \"BRK-B\", \"AAPL\", \"MSFT\", \"GOOG\", \"JPM\"] # example list\n",
        "df_list = []\n",
        "for ticker in tickers_list:\n",
        "    ticker_object = yf.Ticker(ticker)\n",
        "    temp_df = ticker_object.history(start=\"2023-01-01\", end=\"2023-12-31\",interval = \"1d\")\n",
        "    #for k,v in ticker_object.dividends.items():\n",
        "    #  print (ticker_object.info[\"symbol\"], k, '\\t', v, '\\n')\n",
        "    temp_df['Symbol'] = ticker\n",
        "    df_list.append(temp_df)\n",
        "df = pd.concat(df_list)\n",
        "\n",
        "#df.groupby(by=['Symbol']).sum()\n",
        "\n",
        "#df_grouped = df.groupby(\"Symbol\")[\"Dividends\"].sum()\n",
        "df_grouped = (df.groupby(['Symbol'], as_index=False).agg(dividends_sum=('Dividends', 'sum'), close_price=('Close', 'last')))\n",
        "df_grouped['LDY']=df_grouped['dividends_sum'] / df_grouped['close_price']\n",
        "print(df_grouped['LDY'].max())\n",
        "\n",
        "#df_grouped['argest dividend yield '] = [\"Dividends\"] / df.loc[df['Symbol'] == ['Symbol'].Dividends]\n",
        "\n"
      ],
      "metadata": {
        "colab": {
          "base_uri": "https://localhost:8080/"
        },
        "id": "LG9P5IbyEre0",
        "outputId": "f1cd2668-6be8-4dd2-96e5-049fcab63ef0"
      },
      "execution_count": 25,
      "outputs": [
        {
          "output_type": "stream",
          "name": "stdout",
          "text": [
            "0.027701498195032554\n"
          ]
        }
      ]
    },
    {
      "cell_type": "code",
      "source": [
        "dir(ticker_object)"
      ],
      "metadata": {
        "id": "6upTodDTaw1p",
        "colab": {
          "base_uri": "https://localhost:8080/"
        },
        "outputId": "01267cd6-7db8-4f0e-9747-38367c719521"
      },
      "execution_count": 19,
      "outputs": [
        {
          "output_type": "execute_result",
          "data": {
            "text/plain": [
              "['__class__',\n",
              " '__delattr__',\n",
              " '__dict__',\n",
              " '__dir__',\n",
              " '__doc__',\n",
              " '__eq__',\n",
              " '__format__',\n",
              " '__ge__',\n",
              " '__getattribute__',\n",
              " '__gt__',\n",
              " '__hash__',\n",
              " '__init__',\n",
              " '__init_subclass__',\n",
              " '__le__',\n",
              " '__lt__',\n",
              " '__module__',\n",
              " '__ne__',\n",
              " '__new__',\n",
              " '__reduce__',\n",
              " '__reduce_ex__',\n",
              " '__repr__',\n",
              " '__setattr__',\n",
              " '__sizeof__',\n",
              " '__str__',\n",
              " '__subclasshook__',\n",
              " '__weakref__',\n",
              " '_analysis',\n",
              " '_data',\n",
              " '_download_options',\n",
              " '_earnings',\n",
              " '_earnings_dates',\n",
              " '_expirations',\n",
              " '_fast_info',\n",
              " '_fetch_ticker_tz',\n",
              " '_financials',\n",
              " '_fundamentals',\n",
              " '_get_ticker_tz',\n",
              " '_holders',\n",
              " '_isin',\n",
              " '_lazy_load_price_history',\n",
              " '_news',\n",
              " '_options2df',\n",
              " '_price_history',\n",
              " '_quote',\n",
              " '_shares',\n",
              " '_tz',\n",
              " '_underlying',\n",
              " 'actions',\n",
              " 'analyst_price_target',\n",
              " 'balance_sheet',\n",
              " 'balancesheet',\n",
              " 'basic_info',\n",
              " 'calendar',\n",
              " 'capital_gains',\n",
              " 'cash_flow',\n",
              " 'cashflow',\n",
              " 'dividends',\n",
              " 'earnings',\n",
              " 'earnings_dates',\n",
              " 'earnings_forecasts',\n",
              " 'earnings_trend',\n",
              " 'fast_info',\n",
              " 'financials',\n",
              " 'get_actions',\n",
              " 'get_analyst_price_target',\n",
              " 'get_balance_sheet',\n",
              " 'get_balancesheet',\n",
              " 'get_calendar',\n",
              " 'get_capital_gains',\n",
              " 'get_cash_flow',\n",
              " 'get_cashflow',\n",
              " 'get_dividends',\n",
              " 'get_earnings',\n",
              " 'get_earnings_dates',\n",
              " 'get_earnings_forecast',\n",
              " 'get_earnings_trend',\n",
              " 'get_fast_info',\n",
              " 'get_financials',\n",
              " 'get_history_metadata',\n",
              " 'get_income_stmt',\n",
              " 'get_incomestmt',\n",
              " 'get_info',\n",
              " 'get_insider_purchases',\n",
              " 'get_insider_roster_holders',\n",
              " 'get_insider_transactions',\n",
              " 'get_institutional_holders',\n",
              " 'get_isin',\n",
              " 'get_major_holders',\n",
              " 'get_mutualfund_holders',\n",
              " 'get_news',\n",
              " 'get_recommendations',\n",
              " 'get_recommendations_summary',\n",
              " 'get_rev_forecast',\n",
              " 'get_shares',\n",
              " 'get_shares_full',\n",
              " 'get_splits',\n",
              " 'get_sustainability',\n",
              " 'get_trend_details',\n",
              " 'get_upgrades_downgrades',\n",
              " 'history',\n",
              " 'history_metadata',\n",
              " 'income_stmt',\n",
              " 'incomestmt',\n",
              " 'info',\n",
              " 'insider_purchases',\n",
              " 'insider_roster_holders',\n",
              " 'insider_transactions',\n",
              " 'institutional_holders',\n",
              " 'isin',\n",
              " 'major_holders',\n",
              " 'mutualfund_holders',\n",
              " 'news',\n",
              " 'option_chain',\n",
              " 'options',\n",
              " 'proxy',\n",
              " 'quarterly_balance_sheet',\n",
              " 'quarterly_balancesheet',\n",
              " 'quarterly_cash_flow',\n",
              " 'quarterly_cashflow',\n",
              " 'quarterly_earnings',\n",
              " 'quarterly_financials',\n",
              " 'quarterly_income_stmt',\n",
              " 'quarterly_incomestmt',\n",
              " 'recommendations',\n",
              " 'recommendations_summary',\n",
              " 'revenue_forecasts',\n",
              " 'session',\n",
              " 'shares',\n",
              " 'splits',\n",
              " 'sustainability',\n",
              " 'ticker',\n",
              " 'trend_details',\n",
              " 'upgrades_downgrades']"
            ]
          },
          "metadata": {},
          "execution_count": 19
        }
      ]
    },
    {
      "cell_type": "code",
      "source": [],
      "metadata": {
        "id": "A9-WBmxbP04Z"
      },
      "execution_count": null,
      "outputs": []
    }
  ]
}